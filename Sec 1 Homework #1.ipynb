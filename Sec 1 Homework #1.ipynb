{
 "cells": [
  {
   "cell_type": "code",
   "execution_count": 1,
   "id": "8420ed1d",
   "metadata": {},
   "outputs": [],
   "source": [
    "import pandas as pd\n",
    "import statsmodels.api as sm"
   ]
  },
  {
   "cell_type": "markdown",
   "id": "2ad4913a",
   "metadata": {},
   "source": [
    "# 1.) Import Data from FRED"
   ]
  },
  {
   "cell_type": "code",
   "execution_count": 2,
   "id": "b4dc39ea",
   "metadata": {},
   "outputs": [],
   "source": [
    "data = pd.read_csv(\"TaylorRuleData.csv\", index_col = 0)"
   ]
  },
  {
   "cell_type": "code",
   "execution_count": 3,
   "id": "a9a777c9",
   "metadata": {},
   "outputs": [],
   "source": [
    "data.index = pd.to_datetime(data.index)"
   ]
  },
  {
   "cell_type": "code",
   "execution_count": 7,
   "id": "b16ba1d0",
   "metadata": {},
   "outputs": [
    {
     "data": {
      "text/html": [
       "<div>\n",
       "<style scoped>\n",
       "    .dataframe tbody tr th:only-of-type {\n",
       "        vertical-align: middle;\n",
       "    }\n",
       "\n",
       "    .dataframe tbody tr th {\n",
       "        vertical-align: top;\n",
       "    }\n",
       "\n",
       "    .dataframe thead th {\n",
       "        text-align: right;\n",
       "    }\n",
       "</style>\n",
       "<table border=\"1\" class=\"dataframe\">\n",
       "  <thead>\n",
       "    <tr style=\"text-align: right;\">\n",
       "      <th></th>\n",
       "      <th>FedFunds</th>\n",
       "      <th>Unemployment</th>\n",
       "      <th>HousingStarts</th>\n",
       "      <th>Inflation</th>\n",
       "    </tr>\n",
       "  </thead>\n",
       "  <tbody>\n",
       "    <tr>\n",
       "      <th>1947-01-01</th>\n",
       "      <td>NaN</td>\n",
       "      <td>NaN</td>\n",
       "      <td>NaN</td>\n",
       "      <td>21.48</td>\n",
       "    </tr>\n",
       "    <tr>\n",
       "      <th>1947-02-01</th>\n",
       "      <td>NaN</td>\n",
       "      <td>NaN</td>\n",
       "      <td>NaN</td>\n",
       "      <td>21.62</td>\n",
       "    </tr>\n",
       "    <tr>\n",
       "      <th>1947-03-01</th>\n",
       "      <td>NaN</td>\n",
       "      <td>NaN</td>\n",
       "      <td>NaN</td>\n",
       "      <td>22.00</td>\n",
       "    </tr>\n",
       "    <tr>\n",
       "      <th>1947-04-01</th>\n",
       "      <td>NaN</td>\n",
       "      <td>NaN</td>\n",
       "      <td>NaN</td>\n",
       "      <td>22.00</td>\n",
       "    </tr>\n",
       "    <tr>\n",
       "      <th>1947-05-01</th>\n",
       "      <td>NaN</td>\n",
       "      <td>NaN</td>\n",
       "      <td>NaN</td>\n",
       "      <td>21.95</td>\n",
       "    </tr>\n",
       "  </tbody>\n",
       "</table>\n",
       "</div>"
      ],
      "text/plain": [
       "            FedFunds  Unemployment  HousingStarts  Inflation\n",
       "1947-01-01       NaN           NaN            NaN      21.48\n",
       "1947-02-01       NaN           NaN            NaN      21.62\n",
       "1947-03-01       NaN           NaN            NaN      22.00\n",
       "1947-04-01       NaN           NaN            NaN      22.00\n",
       "1947-05-01       NaN           NaN            NaN      21.95"
      ]
     },
     "execution_count": 7,
     "metadata": {},
     "output_type": "execute_result"
    }
   ],
   "source": [
    "data.head()"
   ]
  },
  {
   "cell_type": "code",
   "execution_count": 8,
   "id": "97356909",
   "metadata": {},
   "outputs": [
    {
     "data": {
      "text/html": [
       "<div>\n",
       "<style scoped>\n",
       "    .dataframe tbody tr th:only-of-type {\n",
       "        vertical-align: middle;\n",
       "    }\n",
       "\n",
       "    .dataframe tbody tr th {\n",
       "        vertical-align: top;\n",
       "    }\n",
       "\n",
       "    .dataframe thead th {\n",
       "        text-align: right;\n",
       "    }\n",
       "</style>\n",
       "<table border=\"1\" class=\"dataframe\">\n",
       "  <thead>\n",
       "    <tr style=\"text-align: right;\">\n",
       "      <th></th>\n",
       "      <th>FedFunds</th>\n",
       "      <th>Unemployment</th>\n",
       "      <th>HousingStarts</th>\n",
       "      <th>Inflation</th>\n",
       "    </tr>\n",
       "  </thead>\n",
       "  <tbody>\n",
       "    <tr>\n",
       "      <th>count</th>\n",
       "      <td>834.000000</td>\n",
       "      <td>912.000000</td>\n",
       "      <td>779.000000</td>\n",
       "      <td>923.000000</td>\n",
       "    </tr>\n",
       "    <tr>\n",
       "      <th>mean</th>\n",
       "      <td>4.601667</td>\n",
       "      <td>5.704934</td>\n",
       "      <td>1433.207959</td>\n",
       "      <td>118.818295</td>\n",
       "    </tr>\n",
       "    <tr>\n",
       "      <th>std</th>\n",
       "      <td>3.592438</td>\n",
       "      <td>1.710877</td>\n",
       "      <td>382.765522</td>\n",
       "      <td>84.653938</td>\n",
       "    </tr>\n",
       "    <tr>\n",
       "      <th>min</th>\n",
       "      <td>0.050000</td>\n",
       "      <td>2.500000</td>\n",
       "      <td>478.000000</td>\n",
       "      <td>21.480000</td>\n",
       "    </tr>\n",
       "    <tr>\n",
       "      <th>25%</th>\n",
       "      <td>1.802500</td>\n",
       "      <td>4.400000</td>\n",
       "      <td>1204.000000</td>\n",
       "      <td>32.230000</td>\n",
       "    </tr>\n",
       "    <tr>\n",
       "      <th>50%</th>\n",
       "      <td>4.165000</td>\n",
       "      <td>5.500000</td>\n",
       "      <td>1457.000000</td>\n",
       "      <td>107.500000</td>\n",
       "    </tr>\n",
       "    <tr>\n",
       "      <th>75%</th>\n",
       "      <td>6.240000</td>\n",
       "      <td>6.700000</td>\n",
       "      <td>1649.500000</td>\n",
       "      <td>189.500000</td>\n",
       "    </tr>\n",
       "    <tr>\n",
       "      <th>max</th>\n",
       "      <td>19.100000</td>\n",
       "      <td>14.900000</td>\n",
       "      <td>2494.000000</td>\n",
       "      <td>307.917000</td>\n",
       "    </tr>\n",
       "  </tbody>\n",
       "</table>\n",
       "</div>"
      ],
      "text/plain": [
       "         FedFunds  Unemployment  HousingStarts   Inflation\n",
       "count  834.000000    912.000000     779.000000  923.000000\n",
       "mean     4.601667      5.704934    1433.207959  118.818295\n",
       "std      3.592438      1.710877     382.765522   84.653938\n",
       "min      0.050000      2.500000     478.000000   21.480000\n",
       "25%      1.802500      4.400000    1204.000000   32.230000\n",
       "50%      4.165000      5.500000    1457.000000  107.500000\n",
       "75%      6.240000      6.700000    1649.500000  189.500000\n",
       "max     19.100000     14.900000    2494.000000  307.917000"
      ]
     },
     "execution_count": 8,
     "metadata": {},
     "output_type": "execute_result"
    }
   ],
   "source": [
    "data.describe()"
   ]
  },
  {
   "cell_type": "markdown",
   "id": "65d21e79",
   "metadata": {},
   "source": [
    "# 2.) Do Not Randomize, split your data into Train, Test Holdout"
   ]
  },
  {
   "cell_type": "code",
   "execution_count": null,
   "id": "2d3984d3",
   "metadata": {},
   "outputs": [],
   "source": [
    "split_1 = \n",
    "split_2 = \n",
    "data_in = \n",
    "data_out = \n",
    "data_hold = "
   ]
  },
  {
   "cell_type": "code",
   "execution_count": null,
   "id": "62d80567",
   "metadata": {},
   "outputs": [],
   "source": [
    "X_in = \n",
    "y_in = \n",
    "X_out = \n",
    "y_out = \n",
    "X_hold = \n",
    "y_hold = "
   ]
  },
  {
   "cell_type": "code",
   "execution_count": null,
   "id": "07ffa01b",
   "metadata": {},
   "outputs": [],
   "source": [
    "# Add Constants\n",
    "X_in = \n",
    "X_out =  \n",
    "X_hold =  "
   ]
  },
  {
   "cell_type": "markdown",
   "id": "385ba1d0",
   "metadata": {},
   "source": [
    "# 3.) Build a model that regresses FF~Unemp, HousingStarts, Inflation"
   ]
  },
  {
   "cell_type": "code",
   "execution_count": null,
   "id": "a09b2262",
   "metadata": {},
   "outputs": [],
   "source": [
    "model1 = "
   ]
  },
  {
   "cell_type": "markdown",
   "id": "4c59d5dc",
   "metadata": {},
   "source": [
    "# 4.) Recreate the graph fro your model"
   ]
  },
  {
   "cell_type": "code",
   "execution_count": null,
   "id": "fd87e6f8",
   "metadata": {},
   "outputs": [],
   "source": [
    "import matplotlib.pyplot as plt"
   ]
  },
  {
   "cell_type": "code",
   "execution_count": null,
   "id": "7d9fc71c",
   "metadata": {},
   "outputs": [],
   "source": [
    "plt.figure(figsize = (12,5))\n",
    "\n",
    "###\n",
    "\n",
    "###\n",
    "\n",
    "plt.ylabel(\"Fed Funds\")\n",
    "plt.xlabel(\"Time\")\n",
    "plt.title(\"Visualizing Model Accuracy\")\n",
    "plt.legend([])\n",
    "plt.grid()\n",
    "plt.show()"
   ]
  },
  {
   "cell_type": "markdown",
   "id": "352c7d82",
   "metadata": {},
   "source": [
    "## \"All Models are wrong but some are useful\" - 1976 George Box"
   ]
  },
  {
   "cell_type": "markdown",
   "id": "aafc27f5",
   "metadata": {},
   "source": [
    "# 5.) What are the in/out of sample MSEs"
   ]
  },
  {
   "cell_type": "code",
   "execution_count": null,
   "id": "3e574719",
   "metadata": {},
   "outputs": [],
   "source": [
    "from sklearn.metrics import mean_squared_error"
   ]
  },
  {
   "cell_type": "code",
   "execution_count": null,
   "id": "7b6b7985",
   "metadata": {},
   "outputs": [],
   "source": [
    "in_mse_1 = \n",
    "out_mse_1 = "
   ]
  },
  {
   "cell_type": "code",
   "execution_count": null,
   "id": "ed315f24",
   "metadata": {},
   "outputs": [],
   "source": [
    "print(\"Insample MSE : \", in_mse_1)\n",
    "print(\"Outsample MSE : \", out_mse_1)"
   ]
  },
  {
   "cell_type": "markdown",
   "id": "35e07201",
   "metadata": {},
   "source": [
    "# 6.) Using a for loop. Repeat 3,4,5 for polynomial degrees 1,2,3"
   ]
  },
  {
   "cell_type": "code",
   "execution_count": null,
   "id": "1b65cf48",
   "metadata": {},
   "outputs": [],
   "source": [
    "from sklearn.preprocessing import PolynomialFeatures"
   ]
  },
  {
   "cell_type": "code",
   "execution_count": null,
   "id": "332af322",
   "metadata": {},
   "outputs": [],
   "source": []
  },
  {
   "cell_type": "markdown",
   "id": "c67b45c5",
   "metadata": {},
   "source": [
    "# 7.) State your observations :"
   ]
  },
  {
   "cell_type": "markdown",
   "id": "5d2fc10f",
   "metadata": {},
   "source": []
  },
  {
   "cell_type": "code",
   "execution_count": null,
   "id": "60b440c8",
   "metadata": {},
   "outputs": [],
   "source": []
  }
 ],
 "metadata": {
  "kernelspec": {
   "display_name": "Python 3 (ipykernel)",
   "language": "python",
   "name": "python3"
  },
  "language_info": {
   "codemirror_mode": {
    "name": "ipython",
    "version": 3
   },
   "file_extension": ".py",
   "mimetype": "text/x-python",
   "name": "python",
   "nbconvert_exporter": "python",
   "pygments_lexer": "ipython3",
   "version": "3.11.5"
  },
  "toc": {
   "base_numbering": 1,
   "nav_menu": {},
   "number_sections": true,
   "sideBar": true,
   "skip_h1_title": false,
   "title_cell": "Table of Contents",
   "title_sidebar": "Contents",
   "toc_cell": false,
   "toc_position": {},
   "toc_section_display": true,
   "toc_window_display": false
  },
  "varInspector": {
   "cols": {
    "lenName": 16,
    "lenType": 16,
    "lenVar": 40
   },
   "kernels_config": {
    "python": {
     "delete_cmd_postfix": "",
     "delete_cmd_prefix": "del ",
     "library": "var_list.py",
     "varRefreshCmd": "print(var_dic_list())"
    },
    "r": {
     "delete_cmd_postfix": ") ",
     "delete_cmd_prefix": "rm(",
     "library": "var_list.r",
     "varRefreshCmd": "cat(var_dic_list()) "
    }
   },
   "types_to_exclude": [
    "module",
    "function",
    "builtin_function_or_method",
    "instance",
    "_Feature"
   ],
   "window_display": false
  }
 },
 "nbformat": 4,
 "nbformat_minor": 5
}
